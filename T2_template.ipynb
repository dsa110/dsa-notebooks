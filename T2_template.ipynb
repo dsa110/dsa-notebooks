{
 "cells": [
  {
   "cell_type": "code",
   "execution_count": 3,
   "metadata": {},
   "outputs": [],
   "source": [
    "import glob\n",
    "import os\n",
    "import numpy as np\n",
    "import yaml\n",
    "import astropy.units as u\n",
    "from astropy.io import ascii"
   ]
  },
  {
   "cell_type": "code",
   "execution_count": 5,
   "metadata": {},
   "outputs": [
    {
     "name": "stdout",
     "output_type": "stream",
     "text": [
      "/mnt/data/dsa110/T2\n"
     ]
    }
   ],
   "source": [
    "cd ~/data/T2"
   ]
  },
  {
   "cell_type": "code",
   "execution_count": 6,
   "metadata": {},
   "outputs": [
    {
     "name": "stdout",
     "output_type": "stream",
     "text": [
      "cluster_output10074.cand  cluster_output8780.json  cluster_output9109.cand\n",
      "cluster_output10074.json  cluster_output8783.cand  cluster_output9109.json\n",
      "cluster_output10075.cand  cluster_output8783.json  cluster_output9169.cand\n",
      "cluster_output10075.json  cluster_output8809.cand  cluster_output9169.json\n",
      "cluster_output12348.cand  cluster_output8809.json  cluster_output9247.cand\n",
      "cluster_output12348.json  cluster_output8822.cand  cluster_output9247.json\n",
      "cluster_output14139.cand  cluster_output8822.json  cluster_output9248.cand\n",
      "cluster_output14139.json  cluster_output8828.cand  cluster_output9248.json\n",
      "cluster_output14650.cand  cluster_output8828.json  cluster_output9251.cand\n",
      "cluster_output14650.json  cluster_output8837.cand  cluster_output9251.json\n",
      "cluster_output7716.cand   cluster_output8837.json  cluster_output9252.cand\n",
      "cluster_output7716.json   cluster_output8852.cand  cluster_output9252.json\n",
      "cluster_output8500.cand   cluster_output8852.json  cluster_output9253.cand\n",
      "cluster_output8500.json   cluster_output8855.cand  cluster_output9253.json\n",
      "cluster_output8503.cand   cluster_output8855.json  cluster_output9303.cand\n",
      "cluster_output8503.json   cluster_output9093.cand  cluster_output9303.json\n",
      "cluster_output8555.cand   cluster_output9093.json  cluster_output9326.cand\n",
      "cluster_output8555.json   cluster_output9103.cand  cluster_output9326.json\n",
      "cluster_output8780.cand   cluster_output9103.json\n"
     ]
    }
   ],
   "source": [
    "ls"
   ]
  },
  {
   "cell_type": "code",
   "execution_count": null,
   "metadata": {},
   "outputs": [],
   "source": []
  }
 ],
 "metadata": {
  "kernelspec": {
   "display_name": "Python 3",
   "language": "python",
   "name": "python3"
  },
  "language_info": {
   "codemirror_mode": {
    "name": "ipython",
    "version": 3
   },
   "file_extension": ".py",
   "mimetype": "text/x-python",
   "name": "python",
   "nbconvert_exporter": "python",
   "pygments_lexer": "ipython3",
   "version": "3.6.10"
  }
 },
 "nbformat": 4,
 "nbformat_minor": 4
}
