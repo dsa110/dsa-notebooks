{
 "cells": [
  {
   "cell_type": "markdown",
   "metadata": {},
   "source": [
    "# Calibration resources that may be useful to the observer on duty"
   ]
  },
  {
   "cell_type": "markdown",
   "metadata": {},
   "source": [
    "## Monitoring Calibration"
   ]
  },
  {
   "cell_type": "markdown",
   "metadata": {},
   "source": [
    "The current calibration monitor points have not been integrated into influxdb and grafana.  You can check on the current status of calibration by pulling the relevant monitor points from etcd, shown below."
   ]
  },
  {
   "cell_type": "code",
   "execution_count": null,
   "metadata": {},
   "outputs": [],
   "source": [
    "import dsautils.calstatus as cs\n",
    "from dsautils.dsa_store import DsaStore\n",
    "ETCD = DsaStore()"
   ]
  },
  {
   "cell_type": "code",
   "execution_count": null,
   "metadata": {},
   "outputs": [],
   "source": [
    "# Check the rsync queue.  This task rsyncs correlator output from the\n",
    "# correlator machines to dsa-storage.\n",
    "# All tasks should be alive (i.e. ntasks_alive == ntasks_total), and\n",
    "# queue_size should not exceed 16 (the number of files for a single time,\n",
    "# one generated on each correlator node).\n",
    "print('rsync:', ETCD.get_dict('/mon/cal/rsync_process'))\n",
    "print('')\n",
    "# Check the freqeuncy integration.  This task removes the cable delays from the\n",
    "# outrigger antennas before integrating in frequency by a factor of 8, down to\n",
    "# 48 frequency channels per correlator node.  This acts on all 16 files for\n",
    "# each time.  Again, all tasks should be alive (i.e. ntasks_alive ==\n",
    "# ntasks_total), and queue_size should not exceed 16.\n",
    "print('fscrunch:', ETCD.get_dict('/mon/cal/fscrunch_process'))\n",
    "print('')\n",
    "# Check the gathering task.  This task gathers the 16 files from the correlator\n",
    "# machines for a single time. All tasks should be alive (i.e. ntasks_alive ==\n",
    "# ntasks_total), and queue_size should not exceed 16. \n",
    "print('gather:', ETCD.get_dict('/mon/cal/gather_process'))\n",
    "print('')\n",
    "# Check the assessment queue.  This tasks checks to see if a calibrator exists\n",
    "# in a given file.  It will only trigger calibration if the file contains the\n",
    "# end of a 15-minute transit of the calibrator. All tasks should be alive\n",
    "# (i.e. ntasks_alive == ntasks_total), and queue_size should not exceed a few.\n",
    "print('assess:', ETCD.get_dict('/mon/cal/assess_process'))\n",
    "print('')\n",
    "# Check the calibration tasks.  This task does not run in a queue.  Instead, it\n",
    "# is run by an etcd callback function that watches the /cmd/cal key.\n",
    "# As a result, if multiple calls are made to /cmd/cal with the key 'calibrate'\n",
    "# in short succession, multiple calibrations will be attempted simultaneous on\n",
    "# the same python kernel.  This process only sends an alive signal with 60s\n",
    "# cadence.\n",
    "print('calibrate:', ETCD.get_dict('/mon/cal/calibrate_process'))\n",
    "print('')\n",
    "# Check the status of the most recent calibration. A status of -1 means that\n",
    "# calibration is incomplete (perhaps in progress).  A non-negative status means\n",
    "# that calibration is complete.  After calibration, plots are generated and \n",
    "# the calibration table in Grafana is updated.  The status can be decoded with\n",
    "# the dsautils.calstatus.decode function.\n",
    "print('most recent calibration:', ETCD.get_dict('/mon/cal/calibration'))\n",
    "status = ETCD.get_dict('/mon/cal/calibration')['status']\n",
    "if status > -1:\n",
    "    print(cs.decode(status))"
   ]
  },
  {
   "cell_type": "markdown",
   "metadata": {},
   "source": [
    "## Manual Calibration"
   ]
  },
  {
   "cell_type": "markdown",
   "metadata": {},
   "source": [
    "This is an example of sending a calibration signal to the calibration pipeline if for some reason the pipeline fails and a source is not calibrated, or if you want to change, for e.g. the reference antenna or the duration of the transit that is calibrated to debug a failed calibration.  Ideally, the observer on duty will not need to do this."
   ]
  },
  {
   "cell_type": "code",
   "execution_count": null,
   "metadata": {},
   "outputs": [],
   "source": [
    "import glob\n",
    "import os\n",
    "import numpy as np\n",
    "import yaml\n",
    "from pkg_resources import resource_filename\n",
    "import astropy.units as u\n",
    "import dsautils.calstatus as cs\n",
    "from dsacalib.ms_io import write_beamformer_solutions, convert_calibrator_pass_to_ms, uvh5_to_ms\n",
    "from dsacalib.routines import calibrate_measurement_set, get_files_for_cal, calculate_sefd\n",
    "from dsacalib.plotting import summary_plot, plot_current_beamformer_solutions\n",
    "from dsacalib.calib import apply_and_correct_calibrations, apply_calibration_tables\n",
    "from casacore.tables import table\n",
    "import casatools as cc\n",
    "import h5py\n",
    "import matplotlib.pyplot as plt\n",
    "%matplotlib inline\n",
    "from matplotlib.backends.backend_pdf import PdfPages"
   ]
  },
  {
   "cell_type": "code",
   "execution_count": null,
   "metadata": {},
   "outputs": [],
   "source": [
    "# Parameters that may need to be changed\n",
    "date = '2020-11-30'\n",
    "calname = 'J201427+233452'\n",
    "duration = 15*u.min # The length of the measurement set created, centered on the calibrator transit\n",
    "refant = '102'\n",
    "\n",
    "# Parameters that are mostly constant\n",
    "calsources = resource_filename('dsacalib', 'data/calibrator_sources.csv')\n",
    "antennas = np.concatenate((np.array(\n",
    "    [24, 25, 26, 27, 28, 29, 30, 31, 32,\n",
    "     33, 34, 35, 20, 19, 18, 17, 16, 15,\n",
    "     14, 13, 100, 101, 102, 116, 103]),\n",
    "    np.arange(36, 36+39)))\n",
    "refcorr = '01'\n",
    "filelength = 15*u.min\n",
    "msdir = '/mnt/data/dsa110/calibration/'\n",
    "hdf5dir = '/mnt/data/dsa110/correlator/'\n",
    "msname = '{0}/{1}_{2}'.format(msdir, date, calname)\n",
    "date_specifier = '{0}*'.format(date)"
   ]
  },
  {
   "cell_type": "code",
   "execution_count": null,
   "metadata": {},
   "outputs": [],
   "source": [
    "# Get a list of the files for each calibrator\n",
    "filenames = get_files_for_cal(\n",
    "    calsources,\n",
    "    refcorr,\n",
    "    duration,\n",
    "    filelength,\n",
    "    date_specifier=date_specifier,\n",
    "    hdf5dir=hdf5dir\n",
    ")\n",
    "filenames"
   ]
  },
  {
   "cell_type": "code",
   "execution_count": null,
   "metadata": {},
   "outputs": [],
   "source": [
    "flist = ['/mnt/data/dsa110/corr{0:02d}/{1}.hdf5'.format(corr, filenames[date][calname]['files'][-1]) for corr in \n",
    "        [1, 2, 3, 21, 5, 6, 7, 8, 9, 10, 11, 12, 13, 14, 15, 16]]"
   ]
  },
  {
   "cell_type": "code",
   "execution_count": null,
   "metadata": {},
   "outputs": [],
   "source": [
    "# This is the command to start calibration, if the calibration process is running\n",
    "# ETCD.put_dict(\n",
    "#     '/cmd/cal',\n",
    "#     {\n",
    "#         'cmd': 'calibrate',\n",
    "#         'val':\n",
    "#         {\n",
    "#             'calname': calname,\n",
    "#             'flist': flist\n",
    "#         }\n",
    "#     }\n",
    "# )"
   ]
  },
  {
   "cell_type": "code",
   "execution_count": null,
   "metadata": {},
   "outputs": [],
   "source": [
    "# You can also generate figures after the fact in the notebook\n",
    "# For example - the beamformer solutions applied to the data:\n",
    "plot_current_beamformer_solutions(\n",
    "    filenames[date][calname]['files'],\n",
    "    calname,\n",
    "    date,\n",
    "    corrlist=[1, 2, 3, 21, 5, 6, 7, 8, 9, 10, 11, 12, 13, 14, 15, 16]\n",
    ")"
   ]
  },
  {
   "cell_type": "code",
   "execution_count": null,
   "metadata": {},
   "outputs": [],
   "source": [
    "for j in range(len(antennas)//10+1):\n",
    "    summary_plot(\n",
    "        msname,\n",
    "        calname,\n",
    "        2,\n",
    "        ['B', 'A'],\n",
    "        antennas[j*10:(j+1)*10]\n",
    "    )\n"
   ]
  },
  {
   "cell_type": "code",
   "execution_count": null,
   "metadata": {},
   "outputs": [],
   "source": []
  }
 ],
 "metadata": {
  "kernelspec": {
   "display_name": "Python 3",
   "language": "python",
   "name": "python3"
  },
  "language_info": {
   "codemirror_mode": {
    "name": "ipython",
    "version": 3
   },
   "file_extension": ".py",
   "mimetype": "text/x-python",
   "name": "python",
   "nbconvert_exporter": "python",
   "pygments_lexer": "ipython3",
   "version": "3.6.10"
  }
 },
 "nbformat": 4,
 "nbformat_minor": 4
}
