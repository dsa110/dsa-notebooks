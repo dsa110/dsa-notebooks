{
 "cells": [
  {
   "cell_type": "markdown",
   "metadata": {},
   "source": [
    "# Copying over all forgotten files on the corr nodes"
   ]
  },
  {
   "cell_type": "code",
   "execution_count": 11,
   "metadata": {},
   "outputs": [],
   "source": [
    "import time\n",
    "import numpy as np\n",
    "from subprocess import check_output\n",
    "from dsautils.dsa_store import DsaStore\n",
    "from dsautils import cnf\n",
    "ETCD = DsaStore()"
   ]
  },
  {
   "cell_type": "code",
   "execution_count": 18,
   "metadata": {},
   "outputs": [],
   "source": [
    "myconf = cnf.Conf()\n",
    "params = myconf.get('corr')\n",
    "corrnames = list(params['ch0'].keys())\n",
    "filenames = [None]*len(corrnames)"
   ]
  },
  {
   "cell_type": "code",
   "execution_count": 19,
   "metadata": {},
   "outputs": [],
   "source": [
    "for i, corr in enumerate(corrnames):\n",
    "    try:\n",
    "        filelist = check_output([\n",
    "            \"rsync\",\n",
    "            \"--list-only\",\n",
    "            \"{0}.sas.pvt:~/data/*.hdf5\".format(corr),\n",
    "            \"--exclude\",\n",
    "            \"*incomplete.hdf5\"\n",
    "        ]).decode(\"utf-8\")\n",
    "        filelist = filelist.split('\\n')\n",
    "        while '' in filelist:\n",
    "            filelist.remove('')\n",
    "        filenames[i] = sorted(file.split(' ')[-1] for file in filelist)\n",
    "    except:\n",
    "        filenames[i] = []\n",
    "for fn in filenames:\n",
    "    fn += ['9999']"
   ]
  },
  {
   "cell_type": "code",
   "execution_count": 8,
   "metadata": {},
   "outputs": [
    {
     "data": {
      "text/plain": [
       "4"
      ]
     },
     "execution_count": 8,
     "metadata": {},
     "output_type": "execute_result"
    }
   ],
   "source": [
    "sum([len(fn) for fn in filenames])-len(filenames)"
   ]
  },
  {
   "cell_type": "code",
   "execution_count": 9,
   "metadata": {},
   "outputs": [
    {
     "data": {
      "text/plain": [
       "[['2021-03-26T00:27:50.hdf5',\n",
       "  '2021-03-26T00:43:16.hdf5',\n",
       "  '2021-03-26T00:58:18.hdf5',\n",
       "  '2021-03-26T01:13:20.hdf5',\n",
       "  '9999'],\n",
       " ['9999'],\n",
       " ['9999'],\n",
       " ['9999'],\n",
       " ['9999'],\n",
       " ['9999'],\n",
       " ['9999'],\n",
       " ['9999'],\n",
       " ['9999'],\n",
       " ['9999'],\n",
       " ['9999'],\n",
       " ['9999'],\n",
       " ['9999'],\n",
       " ['9999'],\n",
       " ['9999'],\n",
       " ['9999']]"
      ]
     },
     "execution_count": 9,
     "metadata": {},
     "output_type": "execute_result"
    }
   ],
   "source": [
    "filenames"
   ]
  },
  {
   "cell_type": "code",
   "execution_count": 10,
   "metadata": {},
   "outputs": [],
   "source": [
    "while sum([len(fn) for fn in filenames]) > len(filenames):\n",
    "    nextfiles = [fn[0] for fn in filenames]\n",
    "    file = min(nextfiles)\n",
    "    corridx = nextfiles.index(file)\n",
    "    ETCD.put_dict(\n",
    "        '/cmd/cal',\n",
    "        {'cmd': 'rsync',\n",
    "         'val': {'hostname': corrnames[corridx],\n",
    "                 'filename': '/home/ubuntu/data/{0}'.format(file)\n",
    "        }\n",
    "        }\n",
    "    )\n",
    "    filenames[corridx].remove(file)\n",
    "    time.sleep(1)"
   ]
  }
 ],
 "metadata": {
  "kernelspec": {
   "display_name": "Python 3",
   "language": "python",
   "name": "python3"
  },
  "language_info": {
   "codemirror_mode": {
    "name": "ipython",
    "version": 3
   },
   "file_extension": ".py",
   "mimetype": "text/x-python",
   "name": "python",
   "nbconvert_exporter": "python",
   "pygments_lexer": "ipython3",
   "version": "3.6.10"
  }
 },
 "nbformat": 4,
 "nbformat_minor": 4
}
